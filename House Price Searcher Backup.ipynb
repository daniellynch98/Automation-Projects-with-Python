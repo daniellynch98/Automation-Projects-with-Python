{
 "cells": [
  {
   "cell_type": "code",
   "execution_count": 64,
   "metadata": {},
   "outputs": [
    {
     "name": "stdout",
     "output_type": "stream",
     "text": [
      "EX20 1EH\n",
      "YO10 5DD\n",
      "YO10 3DU\n"
     ]
    }
   ],
   "source": [
    "import re\n",
    "data = \"My postcode at home is EX20 1EH, my term postcode is YO10 5DD and YO10 3DU \"\n",
    "\n",
    "postcode_finder = re.compile(r'(?:[A-Za-z]\\d ?\\d[A-Za-z]{2})|(?:[A-Za-z][A-Za-z\\d]\\d ?\\d[A-Za-z]{2})|(?:[A-Za-z]{2}\\d{2} ?\\d[A-Za-z]{2})|(?:[A-Za-z]\\d[A-Za-z] ?\\d[A-Za-z]{2})|(?:[A-Za-z]{2}\\d[A-Za-z] ?\\d[A-Za-z]{2})')\n",
    "postcode_searcher = postcode_finder.findall(data)\n",
    "for i in postcode_searcher:\n",
    "    print(i)\n",
    "\n",
    "    \n"
   ]
  },
  {
   "cell_type": "code",
   "execution_count": 62,
   "metadata": {},
   "outputs": [
    {
     "name": "stdout",
     "output_type": "stream",
     "text": [
      "EX20 1EH\n",
      "YO10 5DD\n",
      "YO10 3DU\n",
      "The Postcode is: YO10 3DU\n"
     ]
    }
   ],
   "source": [
    "import webbrowser, requests, pyautogui, time\n",
    "from selenium import webdriver\n",
    "browser = webdriver.Firefox()\n",
    "browser.get(\"https://www.rightmove.co.uk/property-for-sale/find.html?locationIdentifier=POSTCODE%5E303577&radius=5.0&propertyTypes=&includeSSTC=false&mustHave=&dontShow=&furnishTypes=&keywords=\")\n",
    "pyautogui.click(265, 168)\n",
    "pyautogui.press('backspace', presses = 8)\n",
    "search = browser.find_element_by_class_name('input')\n",
    "\n",
    "\n",
    "for i in postcode_searcher:\n",
    "    try:\n",
    "        print(i)\n",
    "        search = browser.find_element_by_class_name('input')\n",
    "        search.click\n",
    "        search.send_keys(i)\n",
    "        search.send_keys(u'\\ue007')\n",
    "        time.sleep(2)\n",
    "        pyautogui.press('down', presses = 50, interval = 0.1)\n",
    "        pyautogui.click(179, 118)\n",
    "        pyautogui.hotkey('command', 'a')\n",
    "        pyautogui.press('backspace')\n",
    "    \n",
    "    except pyautogui.FailSafeException:\n",
    "        global postcode\n",
    "        postcode = (i)\n",
    "        print(\"The Postcode is: \" + postcode)\n",
    "        break\n",
    "\n",
    "browser.get('https://www.google.com/')\n",
    "search2 = browser.find_element_by_xpath('/html/body/div/div[3]/form/div[2]/div[1]/div[1]/div/div[2]/input')\n",
    "search2.send_keys(postcode)\n",
    "search2.send_keys(u'\\ue007')\n",
    "\n",
    "browser.get('https://www.royalmail.com/find-a-postcode')\n",
    "address_search = browser.find_element_by_id('cp-search')\n",
    "address_search.send_keys(postcode)\n"
   ]
  }
 ],
 "metadata": {
  "kernelspec": {
   "display_name": "Python 3",
   "language": "python",
   "name": "python3"
  },
  "language_info": {
   "codemirror_mode": {
    "name": "ipython",
    "version": 3
   },
   "file_extension": ".py",
   "mimetype": "text/x-python",
   "name": "python",
   "nbconvert_exporter": "python",
   "pygments_lexer": "ipython3",
   "version": "3.7.6"
  }
 },
 "nbformat": 4,
 "nbformat_minor": 4
}
